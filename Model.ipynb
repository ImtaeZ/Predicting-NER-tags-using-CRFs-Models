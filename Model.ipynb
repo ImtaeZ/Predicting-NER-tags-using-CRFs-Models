{
 "cells": [
  {
   "cell_type": "code",
   "execution_count": null,
   "metadata": {
    "execution": {
     "iopub.execute_input": "2025-01-26T04:15:10.326295Z",
     "iopub.status.busy": "2025-01-26T04:15:10.325575Z",
     "iopub.status.idle": "2025-01-26T04:15:10.332670Z",
     "shell.execute_reply": "2025-01-26T04:15:10.331790Z",
     "shell.execute_reply.started": "2025-01-26T04:15:10.326252Z"
    },
    "trusted": true
   },
   "outputs": [],
   "source": [
    "# Load Data\n",
    "import os\n",
    "import pandas as pd\n",
    "\n",
    "# Define a funciton to read txt files as df\n",
    "def txt_as_df(path):\n",
    "    all_sentences = []\n",
    "\n",
    "    for filename in sorted(os.listdir(path)):\n",
    "        if filename.endswith(\".txt\"):\n",
    "            file_path = os.path.join(path, filename)\n",
    "\n",
    "            sentences = []\n",
    "            current_sentence = []\n",
    "\n",
    "            with open(file_path, \"r\", encoding=\"utf-8\") as file:\n",
    "                for line in file:\n",
    "                    line = line.strip()\n",
    "\n",
    "                    if not line:\n",
    "                        if current_sentence:\n",
    "                            sentences.append(current_sentence)\n",
    "                            current_sentence = []\n",
    "                    else:\n",
    "                        word_data = line.split(\"\\t\")\n",
    "                        if len(word_data) == 4:\n",
    "                            current_sentence.append(word_data)\n",
    "\n",
    "                if current_sentence:  # In case there's no empty line at the end\n",
    "                    sentences.append(current_sentence)\n",
    "\n",
    "            for sentence in sentences:\n",
    "                df = pd.DataFrame(sentence, columns=[\"word\", \"pos\", \"ner\", \"cls\"])\n",
    "                all_sentences.append(df)\n",
    "\n",
    "    return all_sentences"
   ]
  },
  {
   "cell_type": "code",
   "execution_count": null,
   "metadata": {
    "execution": {
     "iopub.execute_input": "2025-01-26T04:15:13.285755Z",
     "iopub.status.busy": "2025-01-26T04:15:13.285208Z",
     "iopub.status.idle": "2025-01-26T04:15:34.917637Z",
     "shell.execute_reply": "2025-01-26T04:15:34.916865Z",
     "shell.execute_reply.started": "2025-01-26T04:15:13.285726Z"
    },
    "trusted": true
   },
   "outputs": [],
   "source": [
    "# Read Data\n",
    "train_df = txt_as_df(\"---/train/train\")\n",
    "eval_df = txt_as_df(\"---/eval/eval\")"
   ]
  },
  {
   "cell_type": "code",
   "execution_count": null,
   "metadata": {
    "collapsed": true,
    "execution": {
     "iopub.execute_input": "2025-01-26T04:16:46.316181Z",
     "iopub.status.busy": "2025-01-26T04:16:46.315406Z",
     "iopub.status.idle": "2025-01-26T04:16:48.180150Z",
     "shell.execute_reply": "2025-01-26T04:16:48.178860Z",
     "shell.execute_reply.started": "2025-01-26T04:16:46.316150Z"
    },
    "jupyter": {
     "outputs_hidden": true
    },
    "trusted": true
   },
   "outputs": [],
   "source": [
    "# Chceck\n",
    "train_df"
   ]
  },
  {
   "cell_type": "code",
   "execution_count": null,
   "metadata": {
    "execution": {
     "iopub.execute_input": "2025-01-26T04:17:10.371594Z",
     "iopub.status.busy": "2025-01-26T04:17:10.371289Z",
     "iopub.status.idle": "2025-01-26T04:17:10.376405Z",
     "shell.execute_reply": "2025-01-26T04:17:10.375506Z",
     "shell.execute_reply.started": "2025-01-26T04:17:10.371570Z"
    },
    "trusted": true
   },
   "outputs": [],
   "source": [
    "# Create Label List\n",
    "labels = ['O',\n",
    " 'B_ORG',\n",
    " 'B_PER',\n",
    " 'B_LOC',\n",
    " 'B_MEA',\n",
    " 'I_DTM',\n",
    " 'I_ORG',\n",
    " 'E_ORG',\n",
    " 'I_PER',\n",
    " 'B_TTL',\n",
    " 'E_PER',\n",
    " 'B_DES',\n",
    " 'E_LOC',\n",
    " 'B_DTM',\n",
    " 'B_NUM',\n",
    " 'I_MEA',\n",
    " 'E_DTM',\n",
    " 'E_MEA',\n",
    " 'I_LOC',\n",
    " 'I_DES',\n",
    " 'E_DES',\n",
    " 'I_NUM',\n",
    " 'E_NUM',\n",
    " 'B_TRM',\n",
    " 'B_BRN',\n",
    " 'I_TRM',\n",
    " 'E_TRM',\n",
    " 'I_TTL',\n",
    " 'I_BRN',\n",
    " 'E_BRN',\n",
    " 'E_TTL',\n",
    " 'B_NAME']"
   ]
  },
  {
   "cell_type": "code",
   "execution_count": null,
   "metadata": {
    "execution": {
     "iopub.execute_input": "2025-01-26T04:17:20.387431Z",
     "iopub.status.busy": "2025-01-26T04:17:20.386514Z",
     "iopub.status.idle": "2025-01-26T04:17:20.391618Z",
     "shell.execute_reply": "2025-01-26T04:17:20.390739Z",
     "shell.execute_reply.started": "2025-01-26T04:17:20.387390Z"
    },
    "trusted": true
   },
   "outputs": [],
   "source": [
    "def replace_weird_tag(dataframes, tags):\n",
    "    \n",
    "    for df in dataframes:\n",
    "        \n",
    "        df[\"ner\"] = df[\"ner\"].apply(lambda x: \"B_ORG\" if x in tags else x)\n",
    "    \n",
    "    return dataframes"
   ]
  },
  {
   "cell_type": "code",
   "execution_count": null,
   "metadata": {
    "execution": {
     "iopub.execute_input": "2025-01-26T04:17:24.151667Z",
     "iopub.status.busy": "2025-01-26T04:17:24.151077Z",
     "iopub.status.idle": "2025-01-26T04:17:50.196490Z",
     "shell.execute_reply": "2025-01-26T04:17:50.195630Z",
     "shell.execute_reply.started": "2025-01-26T04:17:24.151637Z"
    },
    "trusted": true
   },
   "outputs": [],
   "source": [
    "train_df = replace_weird_tag(train_df, {'OBRN_B', 'MEA_BI', 'B_D`TM', 'ORG_I', 'I', '__', 'DDEM', 'B', 'PER_I'})\n",
    "eval_df = replace_weird_tag(eval_df, {'LOC_I', 'ABB', 'B', '__', 'ORG_I'})"
   ]
  },
  {
   "cell_type": "code",
   "execution_count": null,
   "metadata": {
    "collapsed": true,
    "execution": {
     "iopub.execute_input": "2025-01-26T04:18:23.122716Z",
     "iopub.status.busy": "2025-01-26T04:18:23.122428Z",
     "iopub.status.idle": "2025-01-26T04:18:25.052608Z",
     "shell.execute_reply": "2025-01-26T04:18:25.051201Z",
     "shell.execute_reply.started": "2025-01-26T04:18:23.122693Z"
    },
    "jupyter": {
     "outputs_hidden": true
    },
    "trusted": true
   },
   "outputs": [],
   "source": [
    "# Check train df\n",
    "train_df"
   ]
  },
  {
   "cell_type": "code",
   "execution_count": null,
   "metadata": {
    "execution": {
     "iopub.execute_input": "2025-01-26T04:19:17.749909Z",
     "iopub.status.busy": "2025-01-26T04:19:17.748989Z",
     "iopub.status.idle": "2025-01-26T04:19:17.755465Z",
     "shell.execute_reply": "2025-01-26T04:19:17.754390Z",
     "shell.execute_reply.started": "2025-01-26T04:19:17.749866Z"
    },
    "trusted": true
   },
   "outputs": [],
   "source": [
    "# Merge train_df and eval_df\n",
    "merge_df = train_df + eval_df"
   ]
  },
  {
   "cell_type": "code",
   "execution_count": null,
   "metadata": {
    "execution": {
     "iopub.execute_input": "2025-01-26T04:23:26.054330Z",
     "iopub.status.busy": "2025-01-26T04:23:26.054004Z",
     "iopub.status.idle": "2025-01-26T04:23:26.066575Z",
     "shell.execute_reply": "2025-01-26T04:23:26.065247Z",
     "shell.execute_reply.started": "2025-01-26T04:23:26.054305Z"
    },
    "trusted": true
   },
   "outputs": [],
   "source": [
    "def extract_features(sentence_df):\n",
    "    features = []\n",
    "    for i in range(len(sentence_df)):\n",
    "        word = sentence_df.iloc[i][\"word\"]\n",
    "        pos_tag = sentence_df.iloc[i][\"pos\"]\n",
    "        clause_boundary = sentence_df.iloc[i][\"cls\"]\n",
    "\n",
    "        # Define Features for each Token\n",
    "        token_features = {\n",
    "            \"word\": word,\n",
    "            \"pos_tag\": pos_tag,\n",
    "            \"clause_boundary\": clause_boundary,\n",
    "            \"is_first_word\": i == 0,\n",
    "            \"is_last_word\": i == len(sentence_df) - 1,\n",
    "            \"prefix-1\": word[0],\n",
    "            \"prefix-2\": word[:2],\n",
    "            \"suffix-1\": word[-1],\n",
    "            \"suffix-2\": word[-2:],\n",
    "            \"prev_word\": '' if i == 0 else sentence_df.iloc[i - 1][\"word\"],\n",
    "            \"next_word\": '' if i == len(sentence_df) - 1 else sentence_df.iloc[i + 1][\"word\"],\n",
    "            \"prev_pos\": '' if i == 0 else sentence_df.iloc[i - 1][\"pos\"],\n",
    "            \"next_pos\": '' if i == len(sentence_df) - 1 else sentence_df.iloc[i + 1][\"pos\"],\n",
    "        }\n",
    "        \n",
    "        features.append(token_features)\n",
    "    return features"
   ]
  },
  {
   "cell_type": "code",
   "execution_count": null,
   "metadata": {
    "execution": {
     "iopub.execute_input": "2025-01-26T04:23:28.819909Z",
     "iopub.status.busy": "2025-01-26T04:23:28.819149Z",
     "iopub.status.idle": "2025-01-26T04:23:28.824415Z",
     "shell.execute_reply": "2025-01-26T04:23:28.823605Z",
     "shell.execute_reply.started": "2025-01-26T04:23:28.819880Z"
    },
    "trusted": true
   },
   "outputs": [],
   "source": [
    "def preprocess_data(dataframes, has_labels=True):\n",
    "    X = []\n",
    "    y = []\n",
    "\n",
    "    for df in dataframes:\n",
    "        \n",
    "        sentence_features = extract_features(df)\n",
    "        X.append(sentence_features)\n",
    "\n",
    "        if has_labels and \"ner\" in df.columns:\n",
    "            sentence_labels = df[\"ner\"].tolist()\n",
    "            y.append(sentence_labels)\n",
    "        else:\n",
    "            y.append([])\n",
    "\n",
    "    return X, y"
   ]
  },
  {
   "cell_type": "code",
   "execution_count": null,
   "metadata": {
    "execution": {
     "iopub.execute_input": "2025-01-26T04:23:31.271335Z",
     "iopub.status.busy": "2025-01-26T04:23:31.270552Z",
     "iopub.status.idle": "2025-01-26T04:36:07.501141Z",
     "shell.execute_reply": "2025-01-26T04:36:07.500169Z",
     "shell.execute_reply.started": "2025-01-26T04:23:31.271304Z"
    },
    "trusted": true
   },
   "outputs": [],
   "source": [
    "X, y = preprocess_data(merge_df)"
   ]
  },
  {
   "cell_type": "code",
   "execution_count": null,
   "metadata": {
    "collapsed": true,
    "execution": {
     "iopub.execute_input": "2025-01-26T04:38:04.056612Z",
     "iopub.status.busy": "2025-01-26T04:38:04.056302Z",
     "iopub.status.idle": "2025-01-26T04:38:04.064841Z",
     "shell.execute_reply": "2025-01-26T04:38:04.063884Z",
     "shell.execute_reply.started": "2025-01-26T04:38:04.056585Z"
    },
    "jupyter": {
     "outputs_hidden": true
    },
    "trusted": true
   },
   "outputs": [],
   "source": [
    "X[0]"
   ]
  },
  {
   "cell_type": "code",
   "execution_count": null,
   "metadata": {
    "execution": {
     "iopub.execute_input": "2025-01-26T04:38:10.951827Z",
     "iopub.status.busy": "2025-01-26T04:38:10.951502Z",
     "iopub.status.idle": "2025-01-26T04:38:10.957527Z",
     "shell.execute_reply": "2025-01-26T04:38:10.956567Z",
     "shell.execute_reply.started": "2025-01-26T04:38:10.951786Z"
    },
    "trusted": true
   },
   "outputs": [],
   "source": [
    "y[0]"
   ]
  },
  {
   "cell_type": "code",
   "execution_count": null,
   "metadata": {
    "execution": {
     "iopub.execute_input": "2025-01-26T04:40:13.491168Z",
     "iopub.status.busy": "2025-01-26T04:40:13.490792Z",
     "iopub.status.idle": "2025-01-26T04:40:13.625487Z",
     "shell.execute_reply": "2025-01-26T04:40:13.624858Z",
     "shell.execute_reply.started": "2025-01-26T04:40:13.491136Z"
    },
    "trusted": true
   },
   "outputs": [],
   "source": [
    "# Split data using train_test_split to train\n",
    "import numpy as np\n",
    "from sklearn.model_selection import train_test_split\n",
    "\n",
    "X_train, X_val, y_train, y_val = train_test_split(X, y, train_size = 0.8 ,test_size = 0.2, random_state=42)"
   ]
  },
  {
   "cell_type": "code",
   "execution_count": null,
   "metadata": {
    "execution": {
     "iopub.execute_input": "2025-01-26T04:39:48.236873Z",
     "iopub.status.busy": "2025-01-26T04:39:48.236215Z",
     "iopub.status.idle": "2025-01-26T04:39:57.700166Z",
     "shell.execute_reply": "2025-01-26T04:39:57.699255Z",
     "shell.execute_reply.started": "2025-01-26T04:39:48.236832Z"
    },
    "trusted": true
   },
   "outputs": [],
   "source": [
    "!pip install sklearn-crfsuite"
   ]
  },
  {
   "cell_type": "code",
   "execution_count": null,
   "metadata": {
    "execution": {
     "iopub.execute_input": "2025-01-26T04:40:17.766390Z",
     "iopub.status.busy": "2025-01-26T04:40:17.766071Z",
     "iopub.status.idle": "2025-01-26T04:40:17.818498Z",
     "shell.execute_reply": "2025-01-26T04:40:17.817872Z",
     "shell.execute_reply.started": "2025-01-26T04:40:17.766365Z"
    },
    "trusted": true
   },
   "outputs": [],
   "source": [
    "import sklearn_crfsuite"
   ]
  },
  {
   "cell_type": "code",
   "execution_count": null,
   "metadata": {
    "execution": {
     "iopub.execute_input": "2025-01-26T04:40:58.863094Z",
     "iopub.status.busy": "2025-01-26T04:40:58.862303Z",
     "iopub.status.idle": "2025-01-26T04:40:58.867204Z",
     "shell.execute_reply": "2025-01-26T04:40:58.866232Z",
     "shell.execute_reply.started": "2025-01-26T04:40:58.863064Z"
    },
    "trusted": true
   },
   "outputs": [],
   "source": [
    "# Config model\n",
    "model = sklearn_crfsuite.CRF(\n",
    "    algorithm=\"lbfgs\",\n",
    "    c1=0.1,\n",
    "    c2=0.1,\n",
    "    max_iterations=100,\n",
    "    all_possible_transitions=True,\n",
    "    verbose=True\n",
    ")"
   ]
  },
  {
   "cell_type": "code",
   "execution_count": null,
   "metadata": {
    "collapsed": true,
    "execution": {
     "iopub.execute_input": "2025-01-26T04:41:02.985820Z",
     "iopub.status.busy": "2025-01-26T04:41:02.985500Z",
     "iopub.status.idle": "2025-01-26T04:56:40.826492Z",
     "shell.execute_reply": "2025-01-26T04:56:40.825529Z",
     "shell.execute_reply.started": "2025-01-26T04:41:02.985782Z"
    },
    "jupyter": {
     "outputs_hidden": true
    },
    "trusted": true
   },
   "outputs": [],
   "source": [
    "# fit model\n",
    "model.fit(X_train, y_train)"
   ]
  },
  {
   "cell_type": "code",
   "execution_count": null,
   "metadata": {
    "execution": {
     "iopub.execute_input": "2025-01-26T04:59:53.006873Z",
     "iopub.status.busy": "2025-01-26T04:59:53.006173Z",
     "iopub.status.idle": "2025-01-26T04:59:59.699650Z",
     "shell.execute_reply": "2025-01-26T04:59:59.698989Z",
     "shell.execute_reply.started": "2025-01-26T04:59:53.006846Z"
    },
    "trusted": true
   },
   "outputs": [],
   "source": [
    "y_pred = model.predict(X_val)"
   ]
  },
  {
   "cell_type": "code",
   "execution_count": null,
   "metadata": {
    "execution": {
     "iopub.execute_input": "2025-01-26T05:00:08.281781Z",
     "iopub.status.busy": "2025-01-26T05:00:08.281134Z",
     "iopub.status.idle": "2025-01-26T05:00:08.286245Z",
     "shell.execute_reply": "2025-01-26T05:00:08.285468Z",
     "shell.execute_reply.started": "2025-01-26T05:00:08.281754Z"
    },
    "trusted": true
   },
   "outputs": [],
   "source": [
    "from sklearn_crfsuite import metrics"
   ]
  },
  {
   "cell_type": "code",
   "execution_count": null,
   "metadata": {
    "execution": {
     "iopub.execute_input": "2025-01-26T05:00:09.492861Z",
     "iopub.status.busy": "2025-01-26T05:00:09.492574Z",
     "iopub.status.idle": "2025-01-26T05:00:12.091328Z",
     "shell.execute_reply": "2025-01-26T05:00:12.090523Z",
     "shell.execute_reply.started": "2025-01-26T05:00:09.492828Z"
    },
    "trusted": true
   },
   "outputs": [],
   "source": [
    "# check f1 score (macro)\n",
    "f1_score = metrics.flat_f1_score(y_val, y_pred, average=\"macro\", labels=labels, zero_division=0)\n",
    "f1_score"
   ]
  },
  {
   "cell_type": "code",
   "execution_count": null,
   "metadata": {
    "execution": {
     "iopub.execute_input": "2025-01-26T05:00:50.214050Z",
     "iopub.status.busy": "2025-01-26T05:00:50.213679Z",
     "iopub.status.idle": "2025-01-26T05:00:50.220602Z",
     "shell.execute_reply": "2025-01-26T05:00:50.219757Z",
     "shell.execute_reply.started": "2025-01-26T05:00:50.214023Z"
    },
    "trusted": true
   },
   "outputs": [],
   "source": [
    "def read_test(path):\n",
    "    all_sentences = []\n",
    "\n",
    "    for filename in sorted(os.listdir(path)):\n",
    "        if filename.endswith(\".txt\"):\n",
    "            file_path = os.path.join(path, filename)\n",
    "\n",
    "            sentences = []\n",
    "            current_sentence = []\n",
    "\n",
    "            with open(file_path, \"r\", encoding=\"utf-8\") as file:\n",
    "                for line in file:\n",
    "                    line = line.strip()\n",
    "\n",
    "                    if not line:\n",
    "                        if current_sentence:\n",
    "                            sentences.append(current_sentence)\n",
    "                            current_sentence = []\n",
    "                    else:\n",
    "                        word_data = line.split(\"\\t\")\n",
    "                        if len(word_data) == 3:\n",
    "                            current_sentence.append(word_data)\n",
    "\n",
    "                if current_sentence:  # In case there's no empty line at the end\n",
    "                    sentences.append(current_sentence)\n",
    "\n",
    "            for sentence in sentences:\n",
    "                df = pd.DataFrame(sentence, columns=[\"word\", \"pos\", \"cls\"])\n",
    "                all_sentences.append(df)\n",
    "\n",
    "    return all_sentences"
   ]
  },
  {
   "cell_type": "code",
   "execution_count": null,
   "metadata": {
    "execution": {
     "iopub.execute_input": "2025-01-26T05:00:54.599055Z",
     "iopub.status.busy": "2025-01-26T05:00:54.598680Z",
     "iopub.status.idle": "2025-01-26T05:00:57.418580Z",
     "shell.execute_reply": "2025-01-26T05:00:57.417954Z",
     "shell.execute_reply.started": "2025-01-26T05:00:54.599014Z"
    },
    "trusted": true
   },
   "outputs": [],
   "source": [
    "# Read test df\n",
    "test_df = read_test(\"/kaggle/input/super-ai-ss-5-named-entity-recognition/test/test\")"
   ]
  },
  {
   "cell_type": "code",
   "execution_count": null,
   "metadata": {
    "collapsed": true,
    "execution": {
     "iopub.execute_input": "2025-01-26T05:01:00.740952Z",
     "iopub.status.busy": "2025-01-26T05:01:00.740143Z",
     "iopub.status.idle": "2025-01-26T05:01:02.353265Z",
     "shell.execute_reply": "2025-01-26T05:01:02.352213Z",
     "shell.execute_reply.started": "2025-01-26T05:01:00.740915Z"
    },
    "jupyter": {
     "outputs_hidden": true
    },
    "trusted": true
   },
   "outputs": [],
   "source": [
    "test_df"
   ]
  },
  {
   "cell_type": "code",
   "execution_count": null,
   "metadata": {
    "execution": {
     "iopub.execute_input": "2025-01-26T05:01:54.558054Z",
     "iopub.status.busy": "2025-01-26T05:01:54.557612Z",
     "iopub.status.idle": "2025-01-26T05:02:37.057624Z",
     "shell.execute_reply": "2025-01-26T05:02:37.056985Z",
     "shell.execute_reply.started": "2025-01-26T05:01:54.558021Z"
    },
    "trusted": true
   },
   "outputs": [],
   "source": [
    "X_test, _ = preprocess_data(test_df)"
   ]
  },
  {
   "cell_type": "code",
   "execution_count": null,
   "metadata": {
    "execution": {
     "iopub.execute_input": "2025-01-26T05:04:49.381849Z",
     "iopub.status.busy": "2025-01-26T05:04:49.381026Z",
     "iopub.status.idle": "2025-01-26T05:04:51.758586Z",
     "shell.execute_reply": "2025-01-26T05:04:51.757627Z",
     "shell.execute_reply.started": "2025-01-26T05:04:49.381802Z"
    },
    "trusted": true
   },
   "outputs": [],
   "source": [
    "# predict\n",
    "pred = model.predict(X_test)"
   ]
  },
  {
   "cell_type": "code",
   "execution_count": null,
   "metadata": {
    "collapsed": true,
    "execution": {
     "iopub.execute_input": "2025-01-26T05:04:54.990558Z",
     "iopub.status.busy": "2025-01-26T05:04:54.990245Z",
     "iopub.status.idle": "2025-01-26T05:04:54.996301Z",
     "shell.execute_reply": "2025-01-26T05:04:54.995348Z",
     "shell.execute_reply.started": "2025-01-26T05:04:54.990532Z"
    },
    "jupyter": {
     "outputs_hidden": true
    },
    "trusted": true
   },
   "outputs": [],
   "source": [
    "pred"
   ]
  },
  {
   "cell_type": "code",
   "execution_count": null,
   "metadata": {
    "execution": {
     "iopub.execute_input": "2025-01-26T05:09:49.627523Z",
     "iopub.status.busy": "2025-01-26T05:09:49.627156Z",
     "iopub.status.idle": "2025-01-26T05:09:49.633192Z",
     "shell.execute_reply": "2025-01-26T05:09:49.631971Z",
     "shell.execute_reply.started": "2025-01-26T05:09:49.627482Z"
    },
    "trusted": true
   },
   "outputs": [],
   "source": [
    "def Save_submission_File(submission_file, pred, output_file):\n",
    "    submission_df = pd.read_csv(submission_file)\n",
    "    \n",
    "    label_index = 0 \n",
    "    for i in range(len(submission_df)):\n",
    "        submission_df.at[i, 'ne'] = pred[label_index]\n",
    "        label_index += 1\n",
    "        \n",
    "    submission_df.to_csv(output_file, index=False)"
   ]
  },
  {
   "cell_type": "code",
   "execution_count": null,
   "metadata": {
    "execution": {
     "iopub.execute_input": "2025-01-26T05:07:55.304452Z",
     "iopub.status.busy": "2025-01-26T05:07:55.303731Z",
     "iopub.status.idle": "2025-01-26T05:07:55.309863Z",
     "shell.execute_reply": "2025-01-26T05:07:55.308955Z",
     "shell.execute_reply.started": "2025-01-26T05:07:55.304419Z"
    },
    "trusted": true
   },
   "outputs": [],
   "source": [
    "label_map = {'O': 0,\n",
    " 'B_ORG': 1,\n",
    " 'B_PER': 2,\n",
    " 'B_LOC': 3,\n",
    " 'B_MEA': 4,\n",
    " 'I_DTM': 5,\n",
    " 'I_ORG': 6,\n",
    " 'E_ORG': 7,\n",
    " 'I_PER': 8,\n",
    " 'B_TTL': 9,\n",
    " 'E_PER': 10,\n",
    " 'B_DES': 11,\n",
    " 'E_LOC': 12,\n",
    " 'B_DTM': 13,\n",
    " 'B_NUM': 14,\n",
    " 'I_MEA': 15,\n",
    " 'E_DTM': 16,\n",
    " 'E_MEA': 17,\n",
    " 'I_LOC': 18,\n",
    " 'I_DES': 19,\n",
    " 'E_DES': 20,\n",
    " 'I_NUM': 21,\n",
    " 'E_NUM': 22,\n",
    " 'B_TRM': 23,\n",
    " 'B_BRN': 24,\n",
    " 'I_TRM': 25,\n",
    " 'E_TRM': 26,\n",
    " 'I_TTL': 27,\n",
    " 'I_BRN': 28,\n",
    " 'E_BRN': 29,\n",
    " 'E_TTL': 30,\n",
    " 'B_NAME': 31}"
   ]
  },
  {
   "cell_type": "code",
   "execution_count": null,
   "metadata": {
    "execution": {
     "iopub.execute_input": "2025-01-26T05:08:36.122234Z",
     "iopub.status.busy": "2025-01-26T05:08:36.121907Z",
     "iopub.status.idle": "2025-01-26T05:08:36.139677Z",
     "shell.execute_reply": "2025-01-26T05:08:36.138792Z",
     "shell.execute_reply.started": "2025-01-26T05:08:36.122208Z"
    },
    "trusted": true
   },
   "outputs": [],
   "source": [
    "pred_num = [label_map[label] for sentence in pred for label in sentence]"
   ]
  },
  {
   "cell_type": "code",
   "execution_count": null,
   "metadata": {
    "collapsed": true,
    "execution": {
     "iopub.execute_input": "2025-01-26T05:08:37.259117Z",
     "iopub.status.busy": "2025-01-26T05:08:37.258796Z",
     "iopub.status.idle": "2025-01-26T05:08:37.272216Z",
     "shell.execute_reply": "2025-01-26T05:08:37.271401Z",
     "shell.execute_reply.started": "2025-01-26T05:08:37.259092Z"
    },
    "jupyter": {
     "outputs_hidden": true
    },
    "trusted": true
   },
   "outputs": [],
   "source": [
    "pred_num"
   ]
  },
  {
   "cell_type": "code",
   "execution_count": null,
   "metadata": {
    "execution": {
     "iopub.execute_input": "2025-01-26T05:09:56.304971Z",
     "iopub.status.busy": "2025-01-26T05:09:56.304068Z",
     "iopub.status.idle": "2025-01-26T05:09:59.666450Z",
     "shell.execute_reply": "2025-01-26T05:09:59.665498Z",
     "shell.execute_reply.started": "2025-01-26T05:09:56.304939Z"
    },
    "trusted": true
   },
   "outputs": [],
   "source": [
    "Save_submission_File(\"/kaggle/input/super-ai-ss-5-named-entity-recognition/sample_submission.csv\", pred_num, \"/kaggle/working/sample_submission.csv\")"
   ]
  }
 ],
 "metadata": {
  "kaggle": {
   "accelerator": "nvidiaTeslaT4",
   "dataSources": [
    {
     "databundleVersionId": 10905660,
     "sourceId": 91251,
     "sourceType": "competition"
    }
   ],
   "dockerImageVersionId": 30559,
   "isGpuEnabled": true,
   "isInternetEnabled": true,
   "language": "python",
   "sourceType": "notebook"
  },
  "kernelspec": {
   "display_name": "Python 3",
   "language": "python",
   "name": "python3"
  },
  "language_info": {
   "codemirror_mode": {
    "name": "ipython",
    "version": 3
   },
   "file_extension": ".py",
   "mimetype": "text/x-python",
   "name": "python",
   "nbconvert_exporter": "python",
   "pygments_lexer": "ipython3",
   "version": "3.10.12"
  }
 },
 "nbformat": 4,
 "nbformat_minor": 4
}
